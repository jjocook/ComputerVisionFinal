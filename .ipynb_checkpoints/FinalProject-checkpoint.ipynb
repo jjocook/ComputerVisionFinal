{
 "cells": [
  {
   "cell_type": "code",
   "execution_count": null,
   "id": "7fdf1c2f-3a07-4d19-9bf5-cccf70b098df",
   "metadata": {},
   "outputs": [],
   "source": []
  }
 ],
 "metadata": {
  "kernelspec": {
   "display_name": "Python 3 (ipykernel)",
   "language": "python",
   "name": "python3"
  },
  "language_info": {
   "codemirror_mode": {
    "name": "ipython",
    "version": 3
   },
   "file_extension": ".py",
   "mimetype": "text/x-python",
   "name": "python",
   "nbconvert_exporter": "python",
   "pygments_lexer": "ipython3",
   "version": "3.10.2"
  }
 },
 "nbformat": 4,
 "nbformat_minor": 5
}
